{
 "cells": [
  {
   "cell_type": "code",
   "execution_count": 141,
   "metadata": {},
   "outputs": [
    {
     "name": "stdout",
     "output_type": "stream",
     "text": [
      "<class 'pandas.core.frame.DataFrame'>\n",
      "RangeIndex: 1599 entries, 0 to 1598\n",
      "Data columns (total 12 columns):\n",
      "fixed acidity           1599 non-null float64\n",
      "volatile acidity        1599 non-null float64\n",
      "citric acid             1599 non-null float64\n",
      "residual sugar          1599 non-null float64\n",
      "chlorides               1599 non-null float64\n",
      "free sulfur dioxide     1599 non-null float64\n",
      "total sulfur dioxide    1599 non-null float64\n",
      "density                 1599 non-null float64\n",
      "pH                      1599 non-null float64\n",
      "sulphates               1599 non-null float64\n",
      "alcohol                 1599 non-null float64\n",
      "quality                 1599 non-null int64\n",
      "dtypes: float64(11), int64(1)\n",
      "memory usage: 150.0 KB\n",
      "None\n",
      "       fixed acidity  volatile acidity  citric acid  residual sugar  \\\n",
      "count    1599.000000       1599.000000  1599.000000     1599.000000   \n",
      "mean        8.319637          0.527821     0.270976        2.538806   \n",
      "std         1.741096          0.179060     0.194801        1.409928   \n",
      "min         4.600000          0.120000     0.000000        0.900000   \n",
      "25%         7.100000          0.390000     0.090000        1.900000   \n",
      "50%         7.900000          0.520000     0.260000        2.200000   \n",
      "75%         9.200000          0.640000     0.420000        2.600000   \n",
      "max        15.900000          1.580000     1.000000       15.500000   \n",
      "\n",
      "         chlorides  free sulfur dioxide  total sulfur dioxide      density  \\\n",
      "count  1599.000000          1599.000000           1599.000000  1599.000000   \n",
      "mean      0.087467            15.874922             46.467792     0.996747   \n",
      "std       0.047065            10.460157             32.895324     0.001887   \n",
      "min       0.012000             1.000000              6.000000     0.990070   \n",
      "25%       0.070000             7.000000             22.000000     0.995600   \n",
      "50%       0.079000            14.000000             38.000000     0.996750   \n",
      "75%       0.090000            21.000000             62.000000     0.997835   \n",
      "max       0.611000            72.000000            289.000000     1.003690   \n",
      "\n",
      "                pH    sulphates      alcohol      quality  \n",
      "count  1599.000000  1599.000000  1599.000000  1599.000000  \n",
      "mean      3.311113     0.658149    10.422983     5.636023  \n",
      "std       0.154386     0.169507     1.065668     0.807569  \n",
      "min       2.740000     0.330000     8.400000     3.000000  \n",
      "25%       3.210000     0.550000     9.500000     5.000000  \n",
      "50%       3.310000     0.620000    10.200000     6.000000  \n",
      "75%       3.400000     0.730000    11.100000     6.000000  \n",
      "max       4.010000     2.000000    14.900000     8.000000  \n"
     ]
    }
   ],
   "source": [
    "# part 1 \n",
    "from pandas import Series \n",
    "import pandas as pd\n",
    "import numpy as np\n",
    "import matplotlib.pyplot as plt\n",
    "wineQuality = pd.read_csv(\"winequality-red.csv\")\n",
    "\n",
    "print wineQuality.info()\n",
    "\n",
    "print wineQuality.describe()"
   ]
  },
  {
   "cell_type": "code",
   "execution_count": 142,
   "metadata": {},
   "outputs": [
    {
     "data": {
      "text/plain": [
       "ElasticNetCV(alphas=None, copy_X=True, cv=None, eps=0.001, fit_intercept=True,\n",
       "       l1_ratio=0.5, max_iter=1000, n_alphas=100, n_jobs=1,\n",
       "       normalize=False, positive=False, precompute='auto',\n",
       "       random_state=None, selection='cyclic', tol=0.0001, verbose=0)"
      ]
     },
     "execution_count": 142,
     "metadata": {},
     "output_type": "execute_result"
    }
   ],
   "source": [
    "#Part 2 \n",
    "#Splitting THE DATA UP INTO TRAINING AND TESTING\n",
    "from sklearn.model_selection import train_test_split\n",
    "xprep = wineQuality.drop('quality',1) \n",
    "x_train, x_cv, y_train, y_cv = train_test_split(xprep,wineQuality.quality, test_size =0.3)\n",
    "\n",
    "from sklearn.linear_model import ElasticNetCV\n",
    "encv = ElasticNetCV()\n",
    "encv.fit(x_train, y_train)\n"
   ]
  },
  {
   "cell_type": "code",
   "execution_count": 143,
   "metadata": {},
   "outputs": [
    {
     "name": "stdout",
     "output_type": "stream",
     "text": [
      "Training RMSEA: 0.6354814417447219\n",
      "Testing RMSEA: 0.700309109133248\n",
      "difference = 0.06482766738852608\n"
     ]
    },
    {
     "data": {
      "image/png": "[encoded data removed]",
      "text/plain": [
       "<Figure size 432x288 with 1 Axes>"
      ]
     },
     "metadata": {},
     "output_type": "display_data"
    }
   ],
   "source": [
    "predictions = encv.predict(x_train)\n",
    "mse = np.mean((predictions - y_train)**2)\n",
    "tr=np.sqrt(mse)\n",
    "print \"Training RMSEA: \"+str(tr)\n",
    "\n",
    "#and here's how accurate on the testing data\n",
    "predictions = encv.predict(x_cv)\n",
    "mse = np.mean((predictions - y_cv)**2)\n",
    "ts=np.sqrt(mse)\n",
    "print \"Testing RMSEA: \"+str(ts)\n",
    "print \"difference = \"+str(ts-tr)\n",
    "\n",
    "plt.scatter(y_cv, predictions)\n",
    "plt.xlabel(\"True Values\")\n",
    "plt.ylabel(\"Predictions\")\n",
    "plt.show()"
   ]
  },
  {
   "cell_type": "code",
   "execution_count": 144,
   "metadata": {
    "scrolled": true
   },
   "outputs": [
    {
     "name": "stdout",
     "output_type": "stream",
     "text": [
      "AxesSubplot(0.125,0.125;0.775x0.755)\n"
     ]
    },
    {
     "data": {
      "image/png": "[encoded data removed]",
      "text/plain": [
       "<Figure size 432x288 with 1 Axes>"
      ]
     },
     "metadata": {},
     "output_type": "display_data"
    }
   ],
   "source": [
    "predictors = x_train.columns\n",
    "coef = Series(encv.coef_,predictors).sort_values()\n",
    "coef=coef[coef!=0]\n",
    "print coef.plot(kind='bar', title='Alpha='+str(encv.alpha_)+', L1 Ratio='+str(encv.l1_ratio_))"
   ]
  },
  {
   "cell_type": "code",
   "execution_count": null,
   "metadata": {},
   "outputs": [],
   "source": []
  },
  {
   "cell_type": "code",
   "execution_count": 145,
   "metadata": {},
   "outputs": [
    {
     "name": "stdout",
     "output_type": "stream",
     "text": [
      "[[<matplotlib.axes._subplots.AxesSubplot object at 0x1a22584290>\n",
      "  <matplotlib.axes._subplots.AxesSubplot object at 0x1a2267b9d0>\n",
      "  <matplotlib.axes._subplots.AxesSubplot object at 0x1a201ea390>]\n",
      " [<matplotlib.axes._subplots.AxesSubplot object at 0x1a202df690>\n",
      "  <matplotlib.axes._subplots.AxesSubplot object at 0x1a214bab90>\n",
      "  <matplotlib.axes._subplots.AxesSubplot object at 0x1a230e45d0>]\n",
      " [<matplotlib.axes._subplots.AxesSubplot object at 0x1a202c3190>\n",
      "  <matplotlib.axes._subplots.AxesSubplot object at 0x1a21cf1690>\n",
      "  <matplotlib.axes._subplots.AxesSubplot object at 0x1a20d89350>]\n",
      " [<matplotlib.axes._subplots.AxesSubplot object at 0x1a2086d250>\n",
      "  <matplotlib.axes._subplots.AxesSubplot object at 0x1a21076fd0>\n",
      "  <matplotlib.axes._subplots.AxesSubplot object at 0x1a20decd90>]]\n"
     ]
    },
    {
     "data": {
      "image/png": "[encoded data removed]",
      "text/plain": [
       "<Figure size 432x288 with 12 Axes>"
      ]
     },
     "metadata": {},
     "output_type": "display_data"
    }
   ],
   "source": [
    "from scipy import stats \n",
    "outliersWQ = wineQuality[(np.abs(stats.zscore(wineQuality)) <= 3).all(axis=1)]\n",
    "print outliersWQ.hist()"
   ]
  },
  {
   "cell_type": "code",
   "execution_count": 146,
   "metadata": {},
   "outputs": [
    {
     "data": {
      "text/plain": [
       "ElasticNetCV(alphas=None, copy_X=True, cv=None, eps=0.001, fit_intercept=True,\n",
       "       l1_ratio=0.5, max_iter=1000, n_alphas=100, n_jobs=1,\n",
       "       normalize=False, positive=False, precompute='auto',\n",
       "       random_state=None, selection='cyclic', tol=0.0001, verbose=0)"
      ]
     },
     "execution_count": 146,
     "metadata": {},
     "output_type": "execute_result"
    }
   ],
   "source": [
    "from sklearn.model_selection import train_test_split\n",
    "xprep = outliersWQ.drop('quality',1) \n",
    "x_train, x_cv, y_train, y_cv = train_test_split(xprep,outliers.quality, test_size =0.3)\n",
    "\n",
    "from sklearn.linear_model import ElasticNetCV\n",
    "encv = ElasticNetCV()\n",
    "encv.fit(x_train, y_train)"
   ]
  },
  {
   "cell_type": "code",
   "execution_count": 147,
   "metadata": {},
   "outputs": [
    {
     "name": "stdout",
     "output_type": "stream",
     "text": [
      "Training RMSEA: 0.6253247697880134\n",
      "Testing RMSEA: 0.6285025773518764\n",
      "difference = 0.003177807563862989\n"
     ]
    },
    {
     "data": {
      "image/png": "[encoded data removed]",
      "text/plain": [
       "<Figure size 432x288 with 1 Axes>"
      ]
     },
     "metadata": {},
     "output_type": "display_data"
    }
   ],
   "source": [
    "#4 \n",
    "predictions = encv.predict(x_train)\n",
    "mse = np.mean((predictions - y_train)**2)\n",
    "tr=np.sqrt(mse)\n",
    "print \"Training RMSEA: \"+str(tr)\n",
    "\n",
    "#and here's how accurate on the testing data\n",
    "predictions = encv.predict(x_cv)\n",
    "mse = np.mean((predictions - y_cv)**2)\n",
    "ts=np.sqrt(mse)\n",
    "print \"Testing RMSEA: \"+str(ts)\n",
    "print \"difference = \"+str(ts-tr)\n",
    "\n",
    "plt.scatter(y_cv, predictions)\n",
    "plt.xlabel(\"True Values\")\n",
    "plt.ylabel(\"Predictions\")\n",
    "plt.show()"
   ]
  },
  {
   "cell_type": "code",
   "execution_count": 148,
   "metadata": {},
   "outputs": [
    {
     "name": "stdout",
     "output_type": "stream",
     "text": [
      "AxesSubplot(0.125,0.125;0.775x0.755)\n"
     ]
    },
    {
     "data": {
      "image/png": "[encoded data removed]",
      "text/plain": [
       "<Figure size 432x288 with 1 Axes>"
      ]
     },
     "metadata": {},
     "output_type": "display_data"
    }
   ],
   "source": [
    "predictors = x_train.columns\n",
    "coef = Series(encv.coef_,predictors).sort_values()\n",
    "coef=coef[coef!=0]\n",
    "print coef.plot(kind='bar', title='Alpha='+str(encv.alpha_)+', L1 Ratio='+str(encv.l1_ratio_))"
   ]
  },
  {
   "cell_type": "code",
   "execution_count": 149,
   "metadata": {},
   "outputs": [
    {
     "ename": "SyntaxError",
     "evalue": "invalid syntax (<ipython-input-149-3e5f451c2273>, line 1)",
     "output_type": "error",
     "traceback": [
      "\u001b[0;36m  File \u001b[0;32m\"<ipython-input-149-3e5f451c2273>\"\u001b[0;36m, line \u001b[0;32m1\u001b[0m\n\u001b[0;31m    Training RMSEA: 0.6213951028009518\u001b[0m\n\u001b[0m                 ^\u001b[0m\n\u001b[0;31mSyntaxError\u001b[0m\u001b[0;31m:\u001b[0m invalid syntax\n"
     ]
    }
   ],
   "source": [
    "# This just helps me read the data \n",
    "#Training RMSEA: 0.6213951028009518\n",
    "#Testing RMSEA: 0.6334051803942151\n",
    "#difference = 0.012010077593263335\n",
    "\n",
    "#Training RMSEA: 0.6586700142372149\n",
    "#Testing RMSEA: 0.6503579665348002\n",
    "#difference = -0.008312047702414782 \n",
    "#^^^^^^^ this is the orginal \n",
    "\n",
    "# Our RMSE went down by .02 for the testing RMSE and \n",
    "# the training RMSE went down by .03. \n",
    "# The gap between our RMSE actually went up when we took out our outliers. \n"
   ]
  },
  {
   "cell_type": "code",
   "execution_count": null,
   "metadata": {
    "scrolled": true
   },
   "outputs": [],
   "source": [
    "print outliersWQ[\"volatile acidity\"].hist()"
   ]
  },
  {
   "cell_type": "code",
   "execution_count": null,
   "metadata": {},
   "outputs": [],
   "source": []
  },
  {
   "cell_type": "code",
   "execution_count": null,
   "metadata": {},
   "outputs": [],
   "source": [
    "print outliersWQ[\"pH\"].hist()"
   ]
  },
  {
   "cell_type": "code",
   "execution_count": null,
   "metadata": {},
   "outputs": [],
   "source": [
    "print outliersWQ[\"total sulfur dioxide\"].hist()"
   ]
  },
  {
   "cell_type": "code",
   "execution_count": null,
   "metadata": {},
   "outputs": [],
   "source": [
    "outliersWQ[\"log total Sulfur Dioxide\"]= np.log(outliersWQ[\"total sulfur dioxide\"])\n",
    "print outliersWQ[\"log total Sulfur Dioxide\"].hist() "
   ]
  },
  {
   "cell_type": "code",
   "execution_count": null,
   "metadata": {},
   "outputs": [],
   "source": [
    "outliersWQ[\"free sulfur dioxide\"].hist()"
   ]
  },
  {
   "cell_type": "code",
   "execution_count": null,
   "metadata": {},
   "outputs": [],
   "source": [
    "outliersWQ[\"log free Sulfur Dioxide\"]= np.log(outliersWQ[\"free sulfur dioxide\"])\n",
    "print outliersWQ[\"log free Sulfur Dioxide\"].hist() "
   ]
  },
  {
   "cell_type": "code",
   "execution_count": null,
   "metadata": {},
   "outputs": [],
   "source": [
    "outliersWQ[\"fixed acidity\"].hist()"
   ]
  },
  {
   "cell_type": "code",
   "execution_count": null,
   "metadata": {},
   "outputs": [],
   "source": [
    "outliersWQ[\"alcohol\"].hist()"
   ]
  },
  {
   "cell_type": "code",
   "execution_count": null,
   "metadata": {},
   "outputs": [],
   "source": [
    "outliersWQ[\"log alcohol\"]= np.log(outliersWQ[\"alcohol\"])\n",
    "print outliersWQ[\"log alcohol\"].hist() "
   ]
  },
  {
   "cell_type": "code",
   "execution_count": null,
   "metadata": {},
   "outputs": [],
   "source": [
    "outliersWQ[\"sulphates\"].hist()"
   ]
  },
  {
   "cell_type": "code",
   "execution_count": null,
   "metadata": {},
   "outputs": [],
   "source": [
    "outliersWQ[\"log sulphates\"]= np.log(outliersWQ[\"sulphates\"])\n",
    "print outliersWQ[\"log sulphates\"].hist() "
   ]
  },
  {
   "cell_type": "code",
   "execution_count": 150,
   "metadata": {},
   "outputs": [
    {
     "name": "stdout",
     "output_type": "stream",
     "text": [
      "<class 'pandas.core.frame.DataFrame'>\n",
      "Int64Index: 1451 entries, 0 to 1598\n",
      "Data columns (total 8 columns):\n",
      "fixed acidity       1451 non-null float64\n",
      "volatile acidity    1451 non-null float64\n",
      "citric acid         1451 non-null float64\n",
      "residual sugar      1451 non-null float64\n",
      "chlorides           1451 non-null float64\n",
      "density             1451 non-null float64\n",
      "pH                  1451 non-null float64\n",
      "quality             1451 non-null int64\n",
      "dtypes: float64(7), int64(1)\n",
      "memory usage: 102.0 KB\n",
      "None\n"
     ]
    }
   ],
   "source": [
    "outliersWQ.drop([\"total sulfur dioxide\",\"free sulfur dioxide\",\"alcohol\",\"sulphates\"], axis =1 ,inplace = True)\n",
    "print outliersWQ.info() "
   ]
  },
  {
   "cell_type": "code",
   "execution_count": 151,
   "metadata": {},
   "outputs": [
    {
     "data": {
      "text/plain": [
       "ElasticNetCV(alphas=None, copy_X=True, cv=None, eps=0.001, fit_intercept=True,\n",
       "       l1_ratio=0.5, max_iter=1000, n_alphas=100, n_jobs=1,\n",
       "       normalize=False, positive=False, precompute='auto',\n",
       "       random_state=None, selection='cyclic', tol=0.0001, verbose=0)"
      ]
     },
     "execution_count": 151,
     "metadata": {},
     "output_type": "execute_result"
    }
   ],
   "source": [
    "#6\n",
    "from sklearn.model_selection import train_test_split\n",
    "xprep = outliersWQ.drop('quality',1) \n",
    "x_train, x_cv, y_train, y_cv = train_test_split(xprep,outliers.quality, test_size =0.3)\n",
    "\n",
    "from sklearn.linear_model import ElasticNetCV\n",
    "encv = ElasticNetCV()\n",
    "encv.fit(x_train, y_train)"
   ]
  },
  {
   "cell_type": "code",
   "execution_count": 152,
   "metadata": {},
   "outputs": [
    {
     "name": "stdout",
     "output_type": "stream",
     "text": [
      "Training RMSEA: 0.7061956111228228\n",
      "Testing RMSEA: 0.7681165349458797\n",
      "difference = 0.06192092382305692\n"
     ]
    },
    {
     "data": {
      "image/png": "[encoded data removed]",
      "text/plain": [
       "<Figure size 432x288 with 1 Axes>"
      ]
     },
     "metadata": {},
     "output_type": "display_data"
    }
   ],
   "source": [
    "predictions = encv.predict(x_train)\n",
    "mse = np.mean((predictions - y_train)**2)\n",
    "tr=np.sqrt(mse)\n",
    "print \"Training RMSEA: \"+str(tr)\n",
    "\n",
    "#and here's how accurate on the testing data\n",
    "predictions = encv.predict(x_cv)\n",
    "mse = np.mean((predictions - y_cv)**2)\n",
    "ts=np.sqrt(mse)\n",
    "print \"Testing RMSEA: \"+str(ts)\n",
    "print \"difference = \"+str(ts-tr)\n",
    "\n",
    "plt.scatter(y_cv, predictions)\n",
    "plt.xlabel(\"True Values\")\n",
    "plt.ylabel(\"Predictions\")\n",
    "plt.show()"
   ]
  },
  {
   "cell_type": "code",
   "execution_count": 153,
   "metadata": {},
   "outputs": [],
   "source": [
    "#Training RMSEA: 0.6586700142372149\n",
    "#Testing RMSEA: 0.6503579665348002\n",
    "#difference = -0.008312047702414782 \n",
    "#Original values ^^^^ \n",
    "\n",
    "# The training RMSE actually went up after the transformations to the \n",
    "# the skewed data. The training RMSE wen tup by .05 and the testing \n",
    "# RMSE went up by .11. The difference between the data in training RMSE and testing went up \n",
    "# doing the transformations. "
   ]
  },
  {
   "cell_type": "code",
   "execution_count": null,
   "metadata": {},
   "outputs": [],
   "source": [
    "#The aspects that most affected the quality of the wine in a positive way was \n",
    "#sulphates, alchol and fixed acidity. While volatile acidity actually \n",
    "# decreased the quality of the wine. \n",
    "\n",
    "#\"Our model appears to be accurate to within __0.06192092382305692______________\" by using the \n",
    "#value of the testing RMSE and the units of the dependent variable"
   ]
  }
 ],
 "metadata": {
  "kernelspec": {
   "display_name": "Python 2",
   "language": "python",
   "name": "python2"
  },
  "language_info": {
   "codemirror_mode": {
    "name": "ipython",
    "version": 2
   },
   "file_extension": ".py",
   "mimetype": "text/x-python",
   "name": "python",
   "nbconvert_exporter": "python",
   "pygments_lexer": "ipython2",
   "version": "2.7.15"
  }
 },
 "nbformat": 4,
 "nbformat_minor": 2
}
